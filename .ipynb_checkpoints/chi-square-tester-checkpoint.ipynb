{
 "cells": [
  {
   "cell_type": "markdown",
   "id": "c7c1a8cb-9597-4ed5-aa63-afcc44be7565",
   "metadata": {},
   "source": [
    "# Chi Square Tester for NRWC Workshop"
   ]
  },
  {
   "cell_type": "code",
   "execution_count": 3,
   "id": "dc917d49-dac2-4c84-9b23-59f891f11356",
   "metadata": {},
   "outputs": [],
   "source": [
    "# Import necessary functions\n",
    "from helper_functions import get_user_input\n",
    "# Use autoreload to automatically reload changes from the Python file\n",
    "%load_ext autoreload\n",
    "%autoreload 2"
   ]
  },
  {
   "cell_type": "markdown",
   "id": "8eca69cd-5fa8-4c96-a1d6-ace7519354c7",
   "metadata": {},
   "source": [
    "## Input number of participants here "
   ]
  },
  {
   "cell_type": "code",
   "execution_count": 4,
   "id": "e2a74cf5-fdc3-4c35-b76b-292c91ff1859",
   "metadata": {},
   "outputs": [
    {
     "name": "stdin",
     "output_type": "stream",
     "text": [
      "Please enter a number:  5\n"
     ]
    },
    {
     "name": "stdout",
     "output_type": "stream",
     "text": [
      "The number of participants is: None\n"
     ]
    }
   ],
   "source": [
    "# Define number of participants \n",
    "# This can be used later for power calculations \n",
    "user_number = get_user_input()\n",
    "\n",
    "print(f\"The number of participants is: {user_number}\")"
   ]
  },
  {
   "cell_type": "markdown",
   "id": "3aadcb51-ab71-4cea-b84f-8367243d44c5",
   "metadata": {},
   "source": [
    "## Input results from picture poll here"
   ]
  },
  {
   "cell_type": "markdown",
   "id": "21379fd3-4970-489c-8eae-44817a7720cc",
   "metadata": {},
   "source": [
    "## Input results from audio poll here"
   ]
  },
  {
   "cell_type": "code",
   "execution_count": null,
   "id": "c6fd264e-b102-4ec0-9f18-c55a5bb3ceb1",
   "metadata": {},
   "outputs": [],
   "source": []
  }
 ],
 "metadata": {
  "kernelspec": {
   "display_name": "Python 3 (ipykernel)",
   "language": "python",
   "name": "python3"
  },
  "language_info": {
   "codemirror_mode": {
    "name": "ipython",
    "version": 3
   },
   "file_extension": ".py",
   "mimetype": "text/x-python",
   "name": "python",
   "nbconvert_exporter": "python",
   "pygments_lexer": "ipython3",
   "version": "3.12.4"
  }
 },
 "nbformat": 4,
 "nbformat_minor": 5
}
