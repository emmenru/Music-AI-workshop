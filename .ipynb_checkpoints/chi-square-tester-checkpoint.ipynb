{
 "cells": [
  {
   "cell_type": "markdown",
   "id": "c7c1a8cb-9597-4ed5-aa63-afcc44be7565",
   "metadata": {},
   "source": [
    "# Chi Square Tester for NRWC Workshop"
   ]
  },
  {
   "cell_type": "code",
   "execution_count": 67,
   "id": "dc917d49-dac2-4c84-9b23-59f891f11356",
   "metadata": {},
   "outputs": [
    {
     "name": "stdout",
     "output_type": "stream",
     "text": [
      "The autoreload extension is already loaded. To reload it, use:\n",
      "  %reload_ext autoreload\n"
     ]
    }
   ],
   "source": [
    "# Import necessary functions\n",
    "import pandas as pd \n",
    "import numpy as np \n",
    "import math\n",
    "import helper_functions as hf\n",
    "import matplotlib.pyplot as plt\n",
    "import seaborn as sns\n",
    "import statsmodels.api as sm\n",
    "from statsmodels.stats.contingency_tables import cochrans_q\n",
    "from scipy import stats\n",
    "from scipy.stats import chi2\n",
    "from scipy.special import gammaincc  # for calculating p-value from chi-square statistic\n",
    "\n",
    "# Use autoreload to automatically reload changes from the Python file\n",
    "%load_ext autoreload\n",
    "%autoreload 2"
   ]
  },
  {
   "cell_type": "code",
   "execution_count": 68,
   "id": "841c9201-177e-4afa-a9ff-201b8c6195d5",
   "metadata": {},
   "outputs": [],
   "source": [
    "# Set maximum column width and display width\n",
    "pd.set_option('display.max_columns', None)      # Show all columns\n",
    "#pd.set_option('display.width', 100)            # Set a wider display width\n",
    "#pd.set_option('display.max_colwidth', None)     # Prevent truncation of cell content"
   ]
  },
  {
   "cell_type": "markdown",
   "id": "8eca69cd-5fa8-4c96-a1d6-ace7519354c7",
   "metadata": {},
   "source": [
    "## Input number of participants here \n",
    "Probably better to just compute this from input file, get it from unique voters"
   ]
  },
  {
   "cell_type": "code",
   "execution_count": 69,
   "id": "e2a74cf5-fdc3-4c35-b76b-292c91ff1859",
   "metadata": {},
   "outputs": [
    {
     "name": "stdin",
     "output_type": "stream",
     "text": [
      "Please enter a number:  5\n"
     ]
    },
    {
     "name": "stdout",
     "output_type": "stream",
     "text": [
      "The number of participants is: 5\n"
     ]
    }
   ],
   "source": [
    "# Define number of participants \n",
    "# This can also be used later for power calculations \n",
    "participants = hf.get_user_input()\n",
    "print(f\"The number of participants is: {participants}\")"
   ]
  },
  {
   "cell_type": "markdown",
   "id": "15432c6d-54f5-4bbe-a40f-acbf9fbe2b58",
   "metadata": {},
   "source": [
    "## Read file from XLS and turn it into a dataframe \n",
    "- Remember that there are cells that can be empty if no one replies \n",
    "- Every row is a participant "
   ]
  },
  {
   "cell_type": "code",
   "execution_count": 70,
   "id": "80c48aaf-90e5-4255-b077-4ba51ab045e3",
   "metadata": {},
   "outputs": [
    {
     "name": "stdout",
     "output_type": "stream",
     "text": [
      "         Date  Session  Voter               :             :.1       :.2  \\\n",
      "0  2024-11-05        1      1          Åhlens  Naturkompaniet  XS Leker   \n",
      "1  2024-11-05        2      2  Naturkompaniet        XS Leker   Stadium   \n",
      "2  2024-11-05        2      3         Kappahl             NaN   Stadium   \n",
      "3  2024-11-05        2      4         Kappahl  Naturkompaniet  XS Leker   \n",
      "\n",
      "       :.3      :.4       :.5             :.6      :.7       :.8       :.9  \\\n",
      "0  Kappahl  Stadium     Cubus  Naturkompaniet      NaN       NaN       NaN   \n",
      "1   Åhlens    Cubus   Kappahl         Stadium  Kappahl  XS Leker   Stadium   \n",
      "2    Cubus   Åhlens  XS Leker         Stadium    Cubus   Kappahl  XS Leker   \n",
      "3  Stadium      NaN       NaN             NaN      NaN       NaN       NaN   \n",
      "\n",
      "             :.10     :.11  \n",
      "0             NaN      NaN  \n",
      "1  Naturkompaniet  Kappahl  \n",
      "2          Åhlens  Stadium  \n",
      "3             NaN      NaN  \n"
     ]
    }
   ],
   "source": [
    "## Input results from quiz here\n",
    "\n",
    "# Load data from the first sheet of an Excel file\n",
    "df = pd.read_excel('NRWC-quiz.xlsx', sheet_name='Voters', usecols='A:O', skiprows=2)\n",
    "\n",
    "# Display the first few rows\n",
    "print(df.head())"
   ]
  },
  {
   "cell_type": "code",
   "execution_count": 71,
   "id": "3baf4926-b3a3-4240-94ea-5db2570c6b59",
   "metadata": {},
   "outputs": [
    {
     "name": "stdout",
     "output_type": "stream",
     "text": [
      "         Date  Session  Voter              Q1              Q2        Q3  \\\n",
      "0  2024-11-05        1      1          Åhlens  Naturkompaniet  XS Leker   \n",
      "1  2024-11-05        2      2  Naturkompaniet        XS Leker   Stadium   \n",
      "2  2024-11-05        2      3         Kappahl             NaN   Stadium   \n",
      "3  2024-11-05        2      4         Kappahl  Naturkompaniet  XS Leker   \n",
      "\n",
      "        Q4       Q5        Q6              Q7       Q8        Q9       Q10  \\\n",
      "0  Kappahl  Stadium     Cubus  Naturkompaniet      NaN       NaN       NaN   \n",
      "1   Åhlens    Cubus   Kappahl         Stadium  Kappahl  XS Leker   Stadium   \n",
      "2    Cubus   Åhlens  XS Leker         Stadium    Cubus   Kappahl  XS Leker   \n",
      "3  Stadium      NaN       NaN             NaN      NaN       NaN       NaN   \n",
      "\n",
      "              Q11      Q12  \n",
      "0             NaN      NaN  \n",
      "1  Naturkompaniet  Kappahl  \n",
      "2          Åhlens  Stadium  \n",
      "3             NaN      NaN  \n"
     ]
    }
   ],
   "source": [
    "# Filtering and cleaning the DataFrame\n",
    "\n",
    "# Do I need to handle sessions? Like just pick the latest one? \n",
    "# If required to filter on session, specify it here \n",
    "mask = df['Session'] == 2\n",
    "filtered_df = df[mask]\n",
    "\n",
    "# Rename columns from the 3rd column onward to 'Q1' to 'Q12'\n",
    "new_column_names = {df.columns[i]: f\"Q{i - 2}\" for i in range(3, 15)}  # Adjust range as needed\n",
    "df.rename(columns=new_column_names, inplace=True)\n",
    "\n",
    "print(df)"
   ]
  },
  {
   "cell_type": "code",
   "execution_count": 72,
   "id": "acf07750-9eff-4ff4-91cf-21ec8b0aaa09",
   "metadata": {},
   "outputs": [
    {
     "name": "stdout",
     "output_type": "stream",
     "text": [
      "Date       object\n",
      "Session     int64\n",
      "Voter       int64\n",
      "Q1         object\n",
      "Q2         object\n",
      "Q3         object\n",
      "Q4         object\n",
      "Q5         object\n",
      "Q6         object\n",
      "Q7         object\n",
      "Q8         object\n",
      "Q9         object\n",
      "Q10        object\n",
      "Q11        object\n",
      "Q12        object\n",
      "dtype: object\n"
     ]
    }
   ],
   "source": [
    "# Check data types for columns \n",
    "print(df.dtypes)"
   ]
  },
  {
   "cell_type": "code",
   "execution_count": 73,
   "id": "d8dc6271-8a31-4c96-ba78-b00e03950fd5",
   "metadata": {},
   "outputs": [
    {
     "name": "stdout",
     "output_type": "stream",
     "text": [
      "<class 'pandas.core.frame.DataFrame'>\n",
      "RangeIndex: 4 entries, 0 to 3\n",
      "Data columns (total 15 columns):\n",
      " #   Column   Non-Null Count  Dtype \n",
      "---  ------   --------------  ----- \n",
      " 0   Date     4 non-null      object\n",
      " 1   Session  4 non-null      int64 \n",
      " 2   Voter    4 non-null      int64 \n",
      " 3   Q1       4 non-null      object\n",
      " 4   Q2       3 non-null      object\n",
      " 5   Q3       4 non-null      object\n",
      " 6   Q4       4 non-null      object\n",
      " 7   Q5       3 non-null      object\n",
      " 8   Q6       3 non-null      object\n",
      " 9   Q7       3 non-null      object\n",
      " 10  Q8       2 non-null      object\n",
      " 11  Q9       2 non-null      object\n",
      " 12  Q10      2 non-null      object\n",
      " 13  Q11      2 non-null      object\n",
      " 14  Q12      2 non-null      object\n",
      "dtypes: int64(2), object(13)\n",
      "memory usage: 612.0+ bytes\n"
     ]
    }
   ],
   "source": [
    "df.info()"
   ]
  },
  {
   "cell_type": "code",
   "execution_count": 74,
   "id": "e4929383-8955-46bd-9a7e-52a08cc159a5",
   "metadata": {},
   "outputs": [
    {
     "name": "stdout",
     "output_type": "stream",
     "text": [
      "Descriptive statistics for each question, including missing values:\n",
      "              Q1              Q2        Q3       Q4       Q5     Q6       Q7  \\\n",
      "count          4               3         4        4        3      3        3   \n",
      "unique         3               2         2        4        3      3        2   \n",
      "top      Kappahl  Naturkompaniet  XS Leker  Kappahl  Stadium  Cubus  Stadium   \n",
      "freq           2               2         2        1        1      1        2   \n",
      "missing        0               1         0        0        1      1        1   \n",
      "\n",
      "              Q8        Q9      Q10             Q11      Q12  \n",
      "count          2         2        2               2        2  \n",
      "unique         2         2        2               2        2  \n",
      "top      Kappahl  XS Leker  Stadium  Naturkompaniet  Kappahl  \n",
      "freq           1         1        1               1        1  \n",
      "missing        2         2        2               2        2  \n"
     ]
    }
   ],
   "source": [
    "#Descriptive statistics for categorical columns\n",
    "category_stats = df[df.columns[3:]].describe(include='object')\n",
    "\n",
    "# Calculate missing values per column\n",
    "missing_counts = df[df.columns[3:]].isnull().sum()\n",
    "\n",
    "# Add the missing values count as a new row to the descriptive statistics DataFrame\n",
    "category_stats.loc['missing'] = missing_counts\n",
    "\n",
    "print(\"Descriptive statistics for each question, including missing values:\")\n",
    "print(category_stats)"
   ]
  },
  {
   "cell_type": "code",
   "execution_count": 75,
   "id": "b1e64034-109d-484b-8087-d70a311a9f1c",
   "metadata": {},
   "outputs": [
    {
     "data": {
      "image/png": "[encoded data removed]",
      "text/plain": [
       "<Figure size 1000x600 with 1 Axes>"
      ]
     },
     "metadata": {},
     "output_type": "display_data"
    }
   ],
   "source": [
    "# Plot counts and missing values\n",
    "plt.figure(figsize=(10, 6))\n",
    "\n",
    "# Plotting the count of responses\n",
    "sns.barplot(x=category_stats.columns, y=category_stats.loc['count'], color='skyblue', label='Count of Responses')\n",
    "\n",
    "# Plotting the missing values\n",
    "sns.barplot(x=missing_counts.index, y=missing_counts.values, color='salmon', label='Missing Values')\n",
    "\n",
    "# Adding titles and labels\n",
    "plt.title('Responses versus missing values for Q1-Q12')\n",
    "plt.xlabel('Questions')\n",
    "plt.ylabel('Count')\n",
    "plt.legend()\n",
    "\n",
    "# Show the plot\n",
    "plt.show()"
   ]
  },
  {
   "cell_type": "code",
   "execution_count": 76,
   "id": "ae95f676-2c77-4919-8792-4403dbe30b7c",
   "metadata": {},
   "outputs": [],
   "source": [
    "# Define a consistent color palette using the colorblind palette\n",
    "colorblind_palette = sns.color_palette(\"colorblind\", n_colors=len(df.columns[3:].unique()))\n",
    "\n",
    "# Create a mapping of each category to a color\n",
    "unique_categories = df[df.columns[3:]].melt()['value'].dropna().unique()\n",
    "color_map = {category: colorblind_palette[i] for i, category in enumerate(unique_categories)}\n",
    "\n",
    "# Function to plot question responses with integer counts\n",
    "def plot_questions(df_subset, title):\n",
    "    plt.figure(figsize=(15, 8))\n",
    "    \n",
    "    max_count = df_subset.count().max() + 1  # Set max count for x-axis\n",
    "\n",
    "    for i, col in enumerate(df_subset.columns, 1):\n",
    "        ax = plt.subplot(3, 2, i)\n",
    "        sns.countplot(y=df_subset[col], hue=df_subset[col], palette=color_map, dodge=False, legend=False)\n",
    "        plt.title(f\"Response Counts for {col}\")\n",
    "        plt.xlabel(\"Count\")\n",
    "        plt.ylabel(\"\")\n",
    "        \n",
    "        # Set x-axis limits and format ticks\n",
    "        ax.set_xlim(0, max_count)  # Set the same maximum x-axis limit for all plots\n",
    "        ax.xaxis.set_major_locator(plt.MaxNLocator(integer=True))  # Ensure ticks are integers\n",
    "        \n",
    "    plt.tight_layout()\n",
    "    plt.suptitle(title, fontsize=16)\n",
    "    plt.subplots_adjust(top=0.9)  # Adjust title position\n",
    "    plt.show()"
   ]
  },
  {
   "cell_type": "code",
   "execution_count": 77,
   "id": "da9c96b2-ea4c-4edb-8ea8-85c1983806a8",
   "metadata": {},
   "outputs": [
    {
     "data": {
      "image/png": "[encoded data removed]",
      "text/plain": [
       "<Figure size 1500x800 with 6 Axes>"
      ]
     },
     "metadata": {},
     "output_type": "display_data"
    },
    {
     "data": {
      "image/png": "[encoded data removed]",
      "text/plain": [
       "<Figure size 1500x800 with 6 Axes>"
      ]
     },
     "metadata": {},
     "output_type": "display_data"
    }
   ],
   "source": [
    "# Plot Q1-Q6\n",
    "df_images = df[['Q1', 'Q2', 'Q3', 'Q4', 'Q5', 'Q6']]\n",
    "plot_questions(df_images, \"Images: Response Counts (Q1-Q6)\")\n",
    "\n",
    "# Plot Q7-Q12\n",
    "df_sounds = df[['Q7', 'Q8', 'Q9', 'Q10', 'Q11', 'Q12']]\n",
    "plot_questions(df_sounds, \"Sounds: Response Counts (Q7-Q12)\")"
   ]
  },
  {
   "cell_type": "code",
   "execution_count": 78,
   "id": "af7e48c9-22e1-4d57-9ad9-f9c63e45cf8a",
   "metadata": {},
   "outputs": [],
   "source": [
    "# Calculate the proportion of each category in each question\n",
    "response_counts = pd.concat([df[col].value_counts(normalize=True) for col in df.columns[3:]], axis=1)\n",
    "response_counts.fillna(0, inplace=True)  # Fill NaN with 0 for plotting\n",
    "\n",
    "# Melt the DataFrame for easier plotting\n",
    "response_counts = response_counts.reset_index()\n",
    "response_counts.columns = ['Response'] + list(df.columns[3:])  # Rename columns\n",
    "response_counts_melted = response_counts.melt(id_vars='Response', var_name='Questions', value_name='Proportion')\n",
    "\n",
    "# Use the color map for consistent colors\n",
    "response_counts_melted['Color'] = response_counts_melted['Response'].map(color_map)\n",
    "\n",
    "# Filter the DataFrame for Q1 to Q6\n",
    "response_counts_melted_images = response_counts_melted[response_counts_melted['Questions'].isin(['Q1', 'Q2', 'Q3', 'Q4', 'Q5', 'Q6'])]\n",
    "# Filter the DataFrame for Q7 to Q12\n",
    "response_counts_melted_sounds = response_counts_melted[response_counts_melted['Questions'].isin(['Q7', 'Q8', 'Q9', 'Q10', 'Q11', 'Q12'])]"
   ]
  },
  {
   "cell_type": "code",
   "execution_count": 79,
   "id": "61aea321-851a-4d5c-9cae-19593806d7dd",
   "metadata": {},
   "outputs": [
    {
     "data": {
      "image/png": "[encoded data removed]",
      "text/plain": [
       "<Figure size 1200x700 with 1 Axes>"
      ]
     },
     "metadata": {},
     "output_type": "display_data"
    },
    {
     "data": {
      "image/png": "[encoded data removed]",
      "text/plain": [
       "<Figure size 1200x700 with 1 Axes>"
      ]
     },
     "metadata": {},
     "output_type": "display_data"
    }
   ],
   "source": [
    "# Plot the stacked bar chart for images \n",
    "plt.figure(figsize=(12, 7))\n",
    "sns.barplot(data=response_counts_melted_images, x='Questions', y='Proportion', hue='Response', palette=color_map, dodge=False)\n",
    "plt.title(\"Images: Proportions (Q1-Q6)\")\n",
    "plt.xlabel(\"Questions\")\n",
    "plt.ylabel(\"Proportion\")\n",
    "plt.ylim(0, 1)  # Set y-axis limit to 0 and 1\n",
    "plt.legend(title=\"Response\", loc='upper right')\n",
    "plt.show()\n",
    "\n",
    "# Plot the stacked bar chart for sounds \n",
    "plt.figure(figsize=(12, 7))\n",
    "sns.barplot(data=response_counts_melted_sounds, x='Questions', y='Proportion', hue='Response', palette=color_map, dodge=False)\n",
    "plt.title(\"Sounds: Proportions (Q7-Q12)\")\n",
    "plt.xlabel(\"Questions\")\n",
    "plt.ylabel(\"Proportion\")\n",
    "plt.ylim(0, 1)  # Set y-axis limit to 0 and 1\n",
    "plt.legend(title=\"Response\", loc='upper right')\n",
    "plt.show()"
   ]
  },
  {
   "cell_type": "markdown",
   "id": "0c69ea19-75a3-41cd-ae68-3e9010bbd35b",
   "metadata": {},
   "source": [
    "## Calculate number of correct replies per question "
   ]
  },
  {
   "cell_type": "code",
   "execution_count": 80,
   "id": "65b45ef0-e3ef-43fe-ab62-a29c7c5c8b20",
   "metadata": {},
   "outputs": [
    {
     "data": {
      "text/html": [
       "<div>\n",
       "<style scoped>\n",
       "    .dataframe tbody tr th:only-of-type {\n",
       "        vertical-align: middle;\n",
       "    }\n",
       "\n",
       "    .dataframe tbody tr th {\n",
       "        vertical-align: top;\n",
       "    }\n",
       "\n",
       "    .dataframe thead th {\n",
       "        text-align: right;\n",
       "    }\n",
       "</style>\n",
       "<table border=\"1\" class=\"dataframe\">\n",
       "  <thead>\n",
       "    <tr style=\"text-align: right;\">\n",
       "      <th></th>\n",
       "      <th>Date</th>\n",
       "      <th>Session</th>\n",
       "      <th>Voter</th>\n",
       "      <th>Q1</th>\n",
       "      <th>Q2</th>\n",
       "      <th>Q3</th>\n",
       "      <th>Q4</th>\n",
       "      <th>Q5</th>\n",
       "      <th>Q6</th>\n",
       "      <th>Q7</th>\n",
       "      <th>Q8</th>\n",
       "      <th>Q9</th>\n",
       "      <th>Q10</th>\n",
       "      <th>Q11</th>\n",
       "      <th>Q12</th>\n",
       "    </tr>\n",
       "  </thead>\n",
       "  <tbody>\n",
       "    <tr>\n",
       "      <th>0</th>\n",
       "      <td>2024-11-05</td>\n",
       "      <td>1</td>\n",
       "      <td>1</td>\n",
       "      <td>Åhlens</td>\n",
       "      <td>Naturkompaniet</td>\n",
       "      <td>XS Leker</td>\n",
       "      <td>Kappahl</td>\n",
       "      <td>Stadium</td>\n",
       "      <td>Cubus</td>\n",
       "      <td>Naturkompaniet</td>\n",
       "      <td>NaN</td>\n",
       "      <td>NaN</td>\n",
       "      <td>NaN</td>\n",
       "      <td>NaN</td>\n",
       "      <td>NaN</td>\n",
       "    </tr>\n",
       "    <tr>\n",
       "      <th>1</th>\n",
       "      <td>2024-11-05</td>\n",
       "      <td>2</td>\n",
       "      <td>2</td>\n",
       "      <td>Naturkompaniet</td>\n",
       "      <td>XS Leker</td>\n",
       "      <td>Stadium</td>\n",
       "      <td>Åhlens</td>\n",
       "      <td>Cubus</td>\n",
       "      <td>Kappahl</td>\n",
       "      <td>Stadium</td>\n",
       "      <td>Kappahl</td>\n",
       "      <td>XS Leker</td>\n",
       "      <td>Stadium</td>\n",
       "      <td>Naturkompaniet</td>\n",
       "      <td>Kappahl</td>\n",
       "    </tr>\n",
       "    <tr>\n",
       "      <th>2</th>\n",
       "      <td>2024-11-05</td>\n",
       "      <td>2</td>\n",
       "      <td>3</td>\n",
       "      <td>Kappahl</td>\n",
       "      <td>NaN</td>\n",
       "      <td>Stadium</td>\n",
       "      <td>Cubus</td>\n",
       "      <td>Åhlens</td>\n",
       "      <td>XS Leker</td>\n",
       "      <td>Stadium</td>\n",
       "      <td>Cubus</td>\n",
       "      <td>Kappahl</td>\n",
       "      <td>XS Leker</td>\n",
       "      <td>Åhlens</td>\n",
       "      <td>Stadium</td>\n",
       "    </tr>\n",
       "    <tr>\n",
       "      <th>3</th>\n",
       "      <td>2024-11-05</td>\n",
       "      <td>2</td>\n",
       "      <td>4</td>\n",
       "      <td>Kappahl</td>\n",
       "      <td>Naturkompaniet</td>\n",
       "      <td>XS Leker</td>\n",
       "      <td>Stadium</td>\n",
       "      <td>NaN</td>\n",
       "      <td>NaN</td>\n",
       "      <td>NaN</td>\n",
       "      <td>NaN</td>\n",
       "      <td>NaN</td>\n",
       "      <td>NaN</td>\n",
       "      <td>NaN</td>\n",
       "      <td>NaN</td>\n",
       "    </tr>\n",
       "  </tbody>\n",
       "</table>\n",
       "</div>"
      ],
      "text/plain": [
       "         Date  Session  Voter              Q1              Q2        Q3  \\\n",
       "0  2024-11-05        1      1          Åhlens  Naturkompaniet  XS Leker   \n",
       "1  2024-11-05        2      2  Naturkompaniet        XS Leker   Stadium   \n",
       "2  2024-11-05        2      3         Kappahl             NaN   Stadium   \n",
       "3  2024-11-05        2      4         Kappahl  Naturkompaniet  XS Leker   \n",
       "\n",
       "        Q4       Q5        Q6              Q7       Q8        Q9       Q10  \\\n",
       "0  Kappahl  Stadium     Cubus  Naturkompaniet      NaN       NaN       NaN   \n",
       "1   Åhlens    Cubus   Kappahl         Stadium  Kappahl  XS Leker   Stadium   \n",
       "2    Cubus   Åhlens  XS Leker         Stadium    Cubus   Kappahl  XS Leker   \n",
       "3  Stadium      NaN       NaN             NaN      NaN       NaN       NaN   \n",
       "\n",
       "              Q11      Q12  \n",
       "0             NaN      NaN  \n",
       "1  Naturkompaniet  Kappahl  \n",
       "2          Åhlens  Stadium  \n",
       "3             NaN      NaN  "
      ]
     },
     "execution_count": 80,
     "metadata": {},
     "output_type": "execute_result"
    }
   ],
   "source": [
    "df"
   ]
  },
  {
   "cell_type": "markdown",
   "id": "a2dd6d13-c2e0-4fae-9012-2ad0bce74885",
   "metadata": {},
   "source": [
    "## Correct answers \n",
    "Q1-Q6: Bilder \n",
    "1.Åhlens \n",
    "2.Stadium \n",
    "3.Kappahl\n",
    "4.Cubus\n",
    "5.Naturkompaniet\n",
    "6.XS Leker \n",
    "\n",
    "Q7-Q12: Ljud\n",
    "7. Stadium\n",
    "8. XS\n",
    "9. Kappahl \n",
    "10. Cubus \n",
    "11. Naturkompaniet \n",
    "12. Åhlens "
   ]
  },
  {
   "cell_type": "code",
   "execution_count": 108,
   "id": "d4a46664-3f9a-40fc-a46c-e7e0edbc4a84",
   "metadata": {},
   "outputs": [
    {
     "data": {
      "text/html": [
       "<div>\n",
       "<style scoped>\n",
       "    .dataframe tbody tr th:only-of-type {\n",
       "        vertical-align: middle;\n",
       "    }\n",
       "\n",
       "    .dataframe tbody tr th {\n",
       "        vertical-align: top;\n",
       "    }\n",
       "\n",
       "    .dataframe thead th {\n",
       "        text-align: right;\n",
       "    }\n",
       "</style>\n",
       "<table border=\"1\" class=\"dataframe\">\n",
       "  <thead>\n",
       "    <tr style=\"text-align: right;\">\n",
       "      <th></th>\n",
       "      <th>Date</th>\n",
       "      <th>Session</th>\n",
       "      <th>Voter</th>\n",
       "      <th>Q1</th>\n",
       "      <th>Q2</th>\n",
       "      <th>Q3</th>\n",
       "      <th>Q4</th>\n",
       "      <th>Q5</th>\n",
       "      <th>Q6</th>\n",
       "      <th>Q7</th>\n",
       "      <th>Q8</th>\n",
       "      <th>Q9</th>\n",
       "      <th>Q10</th>\n",
       "      <th>Q11</th>\n",
       "      <th>Q12</th>\n",
       "    </tr>\n",
       "  </thead>\n",
       "  <tbody>\n",
       "    <tr>\n",
       "      <th>0</th>\n",
       "      <td>2024-11-05</td>\n",
       "      <td>1</td>\n",
       "      <td>1</td>\n",
       "      <td>Åhlens</td>\n",
       "      <td>Naturkompaniet</td>\n",
       "      <td>XS Leker</td>\n",
       "      <td>Kappahl</td>\n",
       "      <td>Stadium</td>\n",
       "      <td>Cubus</td>\n",
       "      <td>Naturkompaniet</td>\n",
       "      <td>NaN</td>\n",
       "      <td>NaN</td>\n",
       "      <td>NaN</td>\n",
       "      <td>NaN</td>\n",
       "      <td>NaN</td>\n",
       "    </tr>\n",
       "    <tr>\n",
       "      <th>1</th>\n",
       "      <td>2024-11-05</td>\n",
       "      <td>2</td>\n",
       "      <td>2</td>\n",
       "      <td>Naturkompaniet</td>\n",
       "      <td>XS Leker</td>\n",
       "      <td>Stadium</td>\n",
       "      <td>Åhlens</td>\n",
       "      <td>Cubus</td>\n",
       "      <td>Kappahl</td>\n",
       "      <td>Stadium</td>\n",
       "      <td>Kappahl</td>\n",
       "      <td>XS Leker</td>\n",
       "      <td>Stadium</td>\n",
       "      <td>Naturkompaniet</td>\n",
       "      <td>Kappahl</td>\n",
       "    </tr>\n",
       "    <tr>\n",
       "      <th>2</th>\n",
       "      <td>2024-11-05</td>\n",
       "      <td>2</td>\n",
       "      <td>3</td>\n",
       "      <td>Kappahl</td>\n",
       "      <td>NaN</td>\n",
       "      <td>Stadium</td>\n",
       "      <td>Cubus</td>\n",
       "      <td>Åhlens</td>\n",
       "      <td>XS Leker</td>\n",
       "      <td>Stadium</td>\n",
       "      <td>Cubus</td>\n",
       "      <td>Kappahl</td>\n",
       "      <td>XS Leker</td>\n",
       "      <td>Åhlens</td>\n",
       "      <td>Stadium</td>\n",
       "    </tr>\n",
       "    <tr>\n",
       "      <th>3</th>\n",
       "      <td>2024-11-05</td>\n",
       "      <td>2</td>\n",
       "      <td>4</td>\n",
       "      <td>Kappahl</td>\n",
       "      <td>Naturkompaniet</td>\n",
       "      <td>XS Leker</td>\n",
       "      <td>Stadium</td>\n",
       "      <td>NaN</td>\n",
       "      <td>NaN</td>\n",
       "      <td>NaN</td>\n",
       "      <td>NaN</td>\n",
       "      <td>NaN</td>\n",
       "      <td>NaN</td>\n",
       "      <td>NaN</td>\n",
       "      <td>NaN</td>\n",
       "    </tr>\n",
       "  </tbody>\n",
       "</table>\n",
       "</div>"
      ],
      "text/plain": [
       "         Date  Session  Voter              Q1              Q2        Q3  \\\n",
       "0  2024-11-05        1      1          Åhlens  Naturkompaniet  XS Leker   \n",
       "1  2024-11-05        2      2  Naturkompaniet        XS Leker   Stadium   \n",
       "2  2024-11-05        2      3         Kappahl             NaN   Stadium   \n",
       "3  2024-11-05        2      4         Kappahl  Naturkompaniet  XS Leker   \n",
       "\n",
       "        Q4       Q5        Q6              Q7       Q8        Q9       Q10  \\\n",
       "0  Kappahl  Stadium     Cubus  Naturkompaniet      NaN       NaN       NaN   \n",
       "1   Åhlens    Cubus   Kappahl         Stadium  Kappahl  XS Leker   Stadium   \n",
       "2    Cubus   Åhlens  XS Leker         Stadium    Cubus   Kappahl  XS Leker   \n",
       "3  Stadium      NaN       NaN             NaN      NaN       NaN       NaN   \n",
       "\n",
       "              Q11      Q12  \n",
       "0             NaN      NaN  \n",
       "1  Naturkompaniet  Kappahl  \n",
       "2          Åhlens  Stadium  \n",
       "3             NaN      NaN  "
      ]
     },
     "execution_count": 108,
     "metadata": {},
     "output_type": "execute_result"
    }
   ],
   "source": [
    "# Define the correct answers\n",
    "correct_answers = [\n",
    "    'Åhlens', 'Stadium', 'Kappahl', 'Cubus', 'Naturkompaniet', \n",
    "    'XS Leker', 'Stadium', 'XS Leker', 'Kappahl', 'Cubus', \n",
    "    'Naturkompaniet', 'Åhlens'\n",
    "]\n",
    "\n",
    "# Create a copy of the DataFrame to hold correct/incorrect responses\n",
    "df_correct = df.copy()\n",
    "df_correct"
   ]
  },
  {
   "cell_type": "code",
   "execution_count": 109,
   "id": "cb8409ae-4304-47c0-b60a-77cdbafa22dc",
   "metadata": {},
   "outputs": [
    {
     "name": "stdout",
     "output_type": "stream",
     "text": [
      "         Date  Session  Voter  Q1  Q2  Q3  Q4  Q5  Q6  Q7  Q8  Q9  Q10  Q11  \\\n",
      "0  2024-11-05        1      1   1   0   0   0   0   0   0   0   0    0    0   \n",
      "1  2024-11-05        2      2   0   0   0   0   0   0   1   0   0    0    1   \n",
      "2  2024-11-05        2      3   0   0   0   1   0   1   1   0   1    0    0   \n",
      "3  2024-11-05        2      4   0   0   0   0   0   0   0   0   0    0    0   \n",
      "\n",
      "   Q12  \n",
      "0    0  \n",
      "1    0  \n",
      "2    0  \n",
      "3    0  \n"
     ]
    }
   ],
   "source": [
    "# Replace answers with 1 for correct and 0 for incorrect\n",
    "for i in range(12):  # For Q1 to Q12\n",
    "    df_correct[f'Q{i+1}'] = df_correct[f'Q{i+1}'].apply(lambda x: 1 if x == correct_answers[i] else 0)\n",
    "\n",
    "print(df_correct)"
   ]
  },
  {
   "cell_type": "code",
   "execution_count": 114,
   "id": "b87f0c28-c79a-471e-9ca1-c582a9e628f7",
   "metadata": {},
   "outputs": [
    {
     "data": {
      "text/html": [
       "<div>\n",
       "<style scoped>\n",
       "    .dataframe tbody tr th:only-of-type {\n",
       "        vertical-align: middle;\n",
       "    }\n",
       "\n",
       "    .dataframe tbody tr th {\n",
       "        vertical-align: top;\n",
       "    }\n",
       "\n",
       "    .dataframe thead th {\n",
       "        text-align: right;\n",
       "    }\n",
       "</style>\n",
       "<table border=\"1\" class=\"dataframe\">\n",
       "  <thead>\n",
       "    <tr style=\"text-align: right;\">\n",
       "      <th></th>\n",
       "      <th>Q1</th>\n",
       "      <th>Q2</th>\n",
       "      <th>Q3</th>\n",
       "      <th>Q4</th>\n",
       "      <th>Q5</th>\n",
       "      <th>Q6</th>\n",
       "      <th>Q7</th>\n",
       "      <th>Q8</th>\n",
       "      <th>Q9</th>\n",
       "      <th>Q10</th>\n",
       "      <th>Q11</th>\n",
       "      <th>Q12</th>\n",
       "    </tr>\n",
       "  </thead>\n",
       "  <tbody>\n",
       "    <tr>\n",
       "      <th>0</th>\n",
       "      <td>1</td>\n",
       "      <td>0</td>\n",
       "      <td>0</td>\n",
       "      <td>0</td>\n",
       "      <td>0</td>\n",
       "      <td>0</td>\n",
       "      <td>0</td>\n",
       "      <td>0</td>\n",
       "      <td>0</td>\n",
       "      <td>0</td>\n",
       "      <td>0</td>\n",
       "      <td>0</td>\n",
       "    </tr>\n",
       "    <tr>\n",
       "      <th>1</th>\n",
       "      <td>0</td>\n",
       "      <td>0</td>\n",
       "      <td>0</td>\n",
       "      <td>0</td>\n",
       "      <td>0</td>\n",
       "      <td>0</td>\n",
       "      <td>1</td>\n",
       "      <td>0</td>\n",
       "      <td>0</td>\n",
       "      <td>0</td>\n",
       "      <td>1</td>\n",
       "      <td>0</td>\n",
       "    </tr>\n",
       "    <tr>\n",
       "      <th>2</th>\n",
       "      <td>0</td>\n",
       "      <td>0</td>\n",
       "      <td>0</td>\n",
       "      <td>1</td>\n",
       "      <td>0</td>\n",
       "      <td>1</td>\n",
       "      <td>1</td>\n",
       "      <td>0</td>\n",
       "      <td>1</td>\n",
       "      <td>0</td>\n",
       "      <td>0</td>\n",
       "      <td>0</td>\n",
       "    </tr>\n",
       "    <tr>\n",
       "      <th>3</th>\n",
       "      <td>0</td>\n",
       "      <td>0</td>\n",
       "      <td>0</td>\n",
       "      <td>0</td>\n",
       "      <td>0</td>\n",
       "      <td>0</td>\n",
       "      <td>0</td>\n",
       "      <td>0</td>\n",
       "      <td>0</td>\n",
       "      <td>0</td>\n",
       "      <td>0</td>\n",
       "      <td>0</td>\n",
       "    </tr>\n",
       "  </tbody>\n",
       "</table>\n",
       "</div>"
      ],
      "text/plain": [
       "   Q1  Q2  Q3  Q4  Q5  Q6  Q7  Q8  Q9  Q10  Q11  Q12\n",
       "0   1   0   0   0   0   0   0   0   0    0    0    0\n",
       "1   0   0   0   0   0   0   1   0   0    0    1    0\n",
       "2   0   0   0   1   0   1   1   0   1    0    0    0\n",
       "3   0   0   0   0   0   0   0   0   0    0    0    0"
      ]
     },
     "execution_count": 114,
     "metadata": {},
     "output_type": "execute_result"
    }
   ],
   "source": [
    "question_columns = ['Q1', 'Q2', 'Q3', 'Q4', 'Q5', 'Q6', 'Q7', 'Q8', 'Q9', 'Q10', 'Q11', 'Q12']\n",
    "question_df = df_correct[question_columns]\n",
    "question_df"
   ]
  },
  {
   "cell_type": "code",
   "execution_count": 120,
   "id": "040ff12e-7e86-40c5-af48-f0246bfa8094",
   "metadata": {},
   "outputs": [
    {
     "name": "stdout",
     "output_type": "stream",
     "text": [
      "Correct answers per question Q1     1\n",
      "Q2     0\n",
      "Q3     0\n",
      "Q4     1\n",
      "Q5     0\n",
      "Q6     1\n",
      "Q7     2\n",
      "Q8     0\n",
      "Q9     1\n",
      "Q10    0\n",
      "Q11    1\n",
      "Q12    0\n",
      "dtype: int64\n",
      "Correct answers per participant 0    1\n",
      "1    2\n",
      "2    4\n",
      "3    0\n",
      "dtype: int64\n"
     ]
    }
   ],
   "source": [
    "# Calculate total correct answers per question\n",
    "total_correct_per_question = question_df.sum(axis=0)\n",
    "print(\"Correct answers per question\", total_correct_per_question)\n",
    "\n",
    "# Calculate total correct answers per participant\n",
    "total_correct_per_participant = question_df.sum(axis=1)\n",
    "print(\"Correct answers per participant\", total_correct_per_participant)\n",
    "\n",
    "# Calculate total correct for images versus sounds \n",
    "# Collapse correct for Q1-Q6\n",
    "# Collapse correct for Q7-Q12"
   ]
  },
  {
   "cell_type": "code",
   "execution_count": 61,
   "id": "d3277526-7ca3-4def-9b60-def88ad29583",
   "metadata": {},
   "outputs": [],
   "source": [
    "# Define columns and create an empty DataFrame\n",
    "columns = ['A', 'B', 'C', 'D', 'E', 'F']  # Answers for each question\n",
    "index = [f'Q{i+1}' for i in range(6)]  # Questions Q1 to Q6\n",
    "df = pd.DataFrame(columns=columns, index=index)\n",
    "#hf.input_data(index, columns)\n",
    "df.loc['Q1'] = [0, 1, 1, 1, 0, 2]  # Replace with actual values for Q1 etc\n",
    "df.loc['Q2'] = [1, 0, 1, 1, 0, 2]  \n",
    "df.loc['Q3'] = [1, 0, 1, 1, 0, 2]  \n",
    "df.loc['Q4'] = [0, 0, 2, 1, 0, 2]  \n",
    "df.loc['Q5'] = [0, 0, 0, 3, 0, 2]  \n",
    "df.loc['Q6'] = [0, 0, 5, 0, 0, 0]  "
   ]
  },
  {
   "cell_type": "markdown",
   "id": "0001a2f0-e3b3-4300-aa57-6b7fbd153b8a",
   "metadata": {},
   "source": [
    "## For testing, generate random numbers if there are n participants "
   ]
  },
  {
   "cell_type": "code",
   "execution_count": 35,
   "id": "a99dd93a-3ab7-4296-86d1-ae718741e223",
   "metadata": {},
   "outputs": [],
   "source": [
    "# Set random seed for reproducibility\n",
    "np.random.seed(0)\n",
    "\n",
    "# Define the indices and columns\n",
    "row_indices = [f'Q{i}' for i in range(1, 7)]\n",
    "columns = ['A', 'B', 'C', 'D', 'E', 'F']\n",
    "\n",
    "# Initialize an empty DataFrame\n",
    "df = pd.DataFrame(index=row_indices, columns=columns)\n",
    "\n",
    "# Fill the DataFrame with random integers such that the sum of each row equals 5\n",
    "for row in row_indices:\n",
    "    # Generate random integers that sum to n participants\n",
    "    values = np.random.multinomial(participants, [1/6]*6)\n",
    "    # Assign to the DataFrame\n",
    "    df.loc[row] = values"
   ]
  },
  {
   "cell_type": "code",
   "execution_count": 36,
   "id": "fd35ebb3-e644-4544-90a2-edb933e6cb42",
   "metadata": {},
   "outputs": [
    {
     "name": "stdout",
     "output_type": "stream",
     "text": [
      "    A  B  C  D  E  F\n",
      "Q1  2  2  2  1  1  2\n",
      "Q2  2  1  3  3  0  1\n",
      "Q3  3  1  2  3  0  1\n",
      "Q4  0  0  4  3  2  1\n",
      "Q5  4  2  1  2  0  1\n",
      "Q6  2  0  4  1  1  2\n"
     ]
    }
   ],
   "source": [
    "# Display the DataFrame that we are working with (inputted data or generated)\n",
    "print(df)"
   ]
  },
  {
   "cell_type": "markdown",
   "id": "8cb7393a-56bf-4a4b-84cf-9f6a51005cee",
   "metadata": {},
   "source": [
    "## Plot number of correct replies for the image versus the sound category\n",
    "- Make a combined plot that lists all 6 questions in one slide (one plot for image versus sound questions)\n",
    "- Descriptive statistics\n",
    "- Number of correct answers per question \n",
    "- Number of correct answers per category image versus sound "
   ]
  },
  {
   "cell_type": "markdown",
   "id": "0740a048-3b20-4c53-bdaa-f483a2d2df1e",
   "metadata": {},
   "source": [
    "## Select question row and plot results"
   ]
  },
  {
   "cell_type": "code",
   "execution_count": 37,
   "id": "fd9df2f0-e5ea-4e00-8e9a-66d1266cfdc9",
   "metadata": {},
   "outputs": [],
   "source": [
    "#Observed counts for each option A-F in question Q1\n",
    "observed_counts = df.loc['Q6']\n",
    "# Calculate the total number of responses\n",
    "total_responses = sum(observed_counts)"
   ]
  },
  {
   "cell_type": "code",
   "execution_count": 39,
   "id": "a46e9f11-be88-43d8-a633-570003369124",
   "metadata": {},
   "outputs": [
    {
     "data": {
      "image/png": "[encoded data removed]",
      "text/plain": [
       "<Figure size 800x600 with 1 Axes>"
      ]
     },
     "metadata": {},
     "output_type": "display_data"
    }
   ],
   "source": [
    "# Plot data \n",
    "# Convert the Series to a dictionary\n",
    "data = observed_counts.to_dict()\n",
    "\n",
    "# Plotting the data\n",
    "plt.figure(figsize=(8, 6))\n",
    "pd.Series(data).plot(kind='bar', color='skyblue', edgecolor='black')\n",
    "\n",
    "# Add labels and title\n",
    "plt.xlabel('Category')\n",
    "plt.ylabel('Count')\n",
    "plt.title('Response Counts for Each Category (A-F) for Q1')\n",
    "plt.xticks(rotation=0)\n",
    "# Set y-axis limit to the total number of replies\n",
    "plt.ylim(0, total_responses)  # Set the y-axis limits\n",
    "# Optionally, you can add a horizontal line at the total responses for clarity\n",
    "plt.show()"
   ]
  },
  {
   "cell_type": "markdown",
   "id": "0f1d5c91-5f7e-484e-a2b7-8036573cd732",
   "metadata": {},
   "source": [
    "## Chi-Square Goodness of Fit Test for separate questions\n",
    "Tests whether the observed frequencies of a single categorical variable match expected frequencies under a specific hypothesis.\n",
    "\n",
    "Hypothesis:\n",
    "- Null Hypothesis (H₀): The observed distribution matches the expected distribution.\n",
    "- Alternative Hypothesis (H₁): The observed distribution does not match the expected distribution.\n",
    "\n",
    "The Chi-Square Goodness of Fit Test compares the observed distribution of responses to a uniform distribution, assuming that each answer choice (A-F) has an equal probability of being selected if participants are choosing randomly."
   ]
  },
  {
   "cell_type": "markdown",
   "id": "6927986c-2e04-4452-8a8a-4cd7fe23a63e",
   "metadata": {},
   "source": [
    "### Manual calculation"
   ]
  },
  {
   "cell_type": "code",
   "execution_count": 43,
   "id": "c6dd07ff-e89d-438f-9aab-c58d9d38d756",
   "metadata": {},
   "outputs": [
    {
     "name": "stdout",
     "output_type": "stream",
     "text": [
      "Chi-Square Statistic (calculated manually): 5.599999999999999\n",
      "P-value:  0.3471050682817159\n",
      "The result is not statistically significant at the 0.05 level.\n",
      "The observed distribution of responses is consistent with random guessing.\n"
     ]
    }
   ],
   "source": [
    "# Calculate the expected counts assuming each option is equally likely\n",
    "expected_count = total_responses / 6\n",
    "expected_counts = [expected_count] * 6\n",
    "\n",
    "# Calculate the Chi-Square statistic by hand\n",
    "chi_square_stat = sum(\n",
    "    ((observed - expected) ** 2) / expected\n",
    "    for observed, expected in zip(observed_counts, expected_counts)\n",
    ")\n",
    "\n",
    "# Print the calculated Chi-Square statistic\n",
    "print(\"Chi-Square Statistic (calculated manually):\", chi_square_stat)\n",
    "\n",
    "# Degrees of freedom for this test\n",
    "deg_freedom = len(observed_counts) - 1  # Here, df = 6 - 1 = 5\n",
    "\n",
    "# To determine the significance level, we typically need a p-value.\n",
    "# To fully implement this, we’d need to calculate or look up the critical value in a Chi-Square table.\n",
    "# Example:\n",
    "# For df=5 and significance level 0.05, the critical value is approximately 11.07\n",
    "# So, we can interpret by comparing:\n",
    "\n",
    "critical_value_95 = 11.07\n",
    "\n",
    "# Calculate the p-value using the Chi-Square survival function\n",
    "p_value = gammaincc(deg_freedom / 2, chi_square_stat / 2)\n",
    "print(\"P-value: \", p_value)\n",
    "\n",
    "#if chi_square_stat > critical_value_95:\n",
    "if p_value < 0.05:\n",
    "    print(\"The result is statistically significant at the 0.05 level.\")\n",
    "    print(\"The observed distribution of responses is significantly different from random guessing.\")\n",
    "else:\n",
    "    print(\"The result is not statistically significant at the 0.05 level.\")\n",
    "    print(\"The observed distribution of responses is consistent with random guessing.\")\n"
   ]
  },
  {
   "cell_type": "markdown",
   "id": "2463a86e-9ad9-4343-b26a-b0736f8eb8fa",
   "metadata": {},
   "source": [
    "### Using scipy.stats package"
   ]
  },
  {
   "cell_type": "code",
   "execution_count": 44,
   "id": "0953be44-1268-4425-a0ad-141267661f8e",
   "metadata": {},
   "outputs": [
    {
     "name": "stdout",
     "output_type": "stream",
     "text": [
      "Total number of responses: 10\n",
      "Chi-Square Statistic: 5.599999999999999\n",
      "p-value: 0.3471050682817159\n",
      "The p-value is 0.3471. This is greater than the significance level of 0.05.\n",
      "We do not reject the null hypothesis, indicating that the observed distribution of responses for question Q1\n",
      "is not significantly different from random guessing. The responses appear consistent with chance.\n"
     ]
    }
   ],
   "source": [
    "# Calculate the total number of responses for Q1\n",
    "total_responses = sum(observed_counts)\n",
    "\n",
    "# Expected counts assuming equal probability for each option (random guessing)\n",
    "expected_count = total_responses / 6\n",
    "expected_counts = [expected_count] * 6\n",
    "\n",
    "# Perform the Chi-Square Goodness of Fit test\n",
    "chi2_stat, p_value = stats.chisquare(f_obs=observed_counts, f_exp=expected_counts)\n",
    "\n",
    "# Output the results\n",
    "print(\"Total number of responses:\", total_responses)\n",
    "print(\"Chi-Square Statistic:\", chi2_stat) # How much the observed counts differ from the expected counts. Higher values indicate larger deviations.\n",
    "print(\"p-value:\", p_value) # A low p-valu, it suggests that the distribution of responses in Q1 is not likely to be due to random guessing, and some options may be selected more often than expected by chance.\n",
    "\n",
    "# Interpretation of results\n",
    "if p_value < 0.05:\n",
    "    print(f\"The p-value is {p_value:.4f}. This is less than the significance level of 0.05.\")\n",
    "    print(\"We reject the null hypothesis, suggesting that the observed distribution of responses for question Q1\")\n",
    "    print(\"is significantly different from what would be expected by random guessing. Some answer options may be chosen more often.\")\n",
    "else:\n",
    "    print(f\"The p-value is {p_value:.4f}. This is greater than the significance level of 0.05.\")\n",
    "    print(\"We do not reject the null hypothesis, indicating that the observed distribution of responses for question Q1\")\n",
    "    print(\"is not significantly different from random guessing. The responses appear consistent with chance.\")"
   ]
  },
  {
   "cell_type": "markdown",
   "id": "f578bc4c-27d8-461a-9d16-08eeb8097262",
   "metadata": {},
   "source": [
    "## Crochan Q test for omnibus testing"
   ]
  },
  {
   "cell_type": "code",
   "execution_count": 47,
   "id": "29862a8c-564e-4d6b-95b3-f07b8aefbc8f",
   "metadata": {},
   "outputs": [],
   "source": [
    "# Specify correct answers for each question\n",
    "correct_answers = {\n",
    "    'Q1': 'A',\n",
    "    'Q2': 'C',\n",
    "    'Q3': 'D',\n",
    "    'Q4': 'F',\n",
    "    'Q5': 'A',\n",
    "    'Q6': 'B'\n",
    "}"
   ]
  },
  {
   "cell_type": "markdown",
   "id": "d235f786-eb2d-4b81-904c-7ad62396f789",
   "metadata": {},
   "source": [
    "## Generate sample data to test "
   ]
  },
  {
   "cell_type": "code",
   "execution_count": 49,
   "id": "68d721ed-e5d9-4e50-948d-3261f095e8f9",
   "metadata": {},
   "outputs": [
    {
     "data": {
      "text/html": [
       "<div>\n",
       "<style scoped>\n",
       "    .dataframe tbody tr th:only-of-type {\n",
       "        vertical-align: middle;\n",
       "    }\n",
       "\n",
       "    .dataframe tbody tr th {\n",
       "        vertical-align: top;\n",
       "    }\n",
       "\n",
       "    .dataframe thead th {\n",
       "        text-align: right;\n",
       "    }\n",
       "</style>\n",
       "<table border=\"1\" class=\"dataframe\">\n",
       "  <thead>\n",
       "    <tr style=\"text-align: right;\">\n",
       "      <th></th>\n",
       "      <th>Q1</th>\n",
       "      <th>Q2</th>\n",
       "      <th>Q3</th>\n",
       "      <th>Q4</th>\n",
       "      <th>Q5</th>\n",
       "      <th>Q6</th>\n",
       "    </tr>\n",
       "  </thead>\n",
       "  <tbody>\n",
       "    <tr>\n",
       "      <th>0</th>\n",
       "      <td>B</td>\n",
       "      <td>C</td>\n",
       "      <td>D</td>\n",
       "      <td>F</td>\n",
       "      <td>A</td>\n",
       "      <td>B</td>\n",
       "    </tr>\n",
       "    <tr>\n",
       "      <th>1</th>\n",
       "      <td>A</td>\n",
       "      <td>C</td>\n",
       "      <td>D</td>\n",
       "      <td>F</td>\n",
       "      <td>C</td>\n",
       "      <td>B</td>\n",
       "    </tr>\n",
       "    <tr>\n",
       "      <th>2</th>\n",
       "      <td>C</td>\n",
       "      <td>B</td>\n",
       "      <td>D</td>\n",
       "      <td>F</td>\n",
       "      <td>D</td>\n",
       "      <td>C</td>\n",
       "    </tr>\n",
       "    <tr>\n",
       "      <th>3</th>\n",
       "      <td>F</td>\n",
       "      <td>A</td>\n",
       "      <td>C</td>\n",
       "      <td>D</td>\n",
       "      <td>A</td>\n",
       "      <td>B</td>\n",
       "    </tr>\n",
       "    <tr>\n",
       "      <th>4</th>\n",
       "      <td>D</td>\n",
       "      <td>F</td>\n",
       "      <td>A</td>\n",
       "      <td>B</td>\n",
       "      <td>E</td>\n",
       "      <td>D</td>\n",
       "    </tr>\n",
       "  </tbody>\n",
       "</table>\n",
       "</div>"
      ],
      "text/plain": [
       "  Q1 Q2 Q3 Q4 Q5 Q6\n",
       "0  B  C  D  F  A  B\n",
       "1  A  C  D  F  C  B\n",
       "2  C  B  D  F  D  C\n",
       "3  F  A  C  D  A  B\n",
       "4  D  F  A  B  E  D"
      ]
     },
     "execution_count": 49,
     "metadata": {},
     "output_type": "execute_result"
    }
   ],
   "source": [
    "# Each row is a participant, each column is their answer to that question\n",
    "participant_responses = pd.DataFrame({\n",
    "    'Q1': ['B', 'A', 'C', 'F', 'D'],  # what each participant answered for Q1\n",
    "    'Q2': ['C', 'C', 'B', 'A', 'F'],  # ... Q2 and so on \n",
    "    'Q3': ['D', 'D', 'D', 'C', 'A'],  \n",
    "    'Q4': ['F', 'F', 'F', 'D', 'B'],  \n",
    "    'Q5': ['A', 'C', 'D', 'A', 'E'],  \n",
    "    'Q6': ['B', 'B', 'C', 'B', 'D']   \n",
    "})\n",
    "\n",
    "participant_responses"
   ]
  },
  {
   "cell_type": "code",
   "execution_count": 50,
   "id": "7e1821f0-db7b-451f-9469-d23658e94417",
   "metadata": {},
   "outputs": [
    {
     "name": "stdout",
     "output_type": "stream",
     "text": [
      "   Q1  Q2  Q3  Q4  Q5  Q6\n",
      "0   0   1   1   1   1   1\n",
      "1   1   1   1   1   0   1\n",
      "2   0   0   1   1   0   0\n",
      "3   0   0   0   0   1   1\n",
      "4   0   0   0   0   0   0\n",
      "{'Q1': 'A', 'Q2': 'C', 'Q3': 'D', 'Q4': 'F', 'Q5': 'A', 'Q6': 'B'}\n"
     ]
    }
   ],
   "source": [
    "def convert_to_binary(responses, correct_answers):\n",
    "    \"\"\"\n",
    "    Convert participant responses to binary format (1 for correct, 0 for incorrect)\n",
    "    \n",
    "    Parameters:\n",
    "    responses (pd.DataFrame): DataFrame where each row is a participant and each column is their answer\n",
    "    correct_answers (dict): Dictionary mapping question number to correct answer\n",
    "    \n",
    "    Returns:\n",
    "    pd.DataFrame: Binary DataFrame where 1 indicates correct answer, 0 indicates incorrect\n",
    "    \"\"\"\n",
    "    binary_df = pd.DataFrame(index=responses.index, columns=responses.columns)\n",
    "    \n",
    "    for question in responses.columns:\n",
    "        binary_df[question] = (responses[question] == correct_answers[question]).astype(int)\n",
    "    \n",
    "    return binary_df\n",
    "\n",
    "binary_responses = convert_to_binary(participant_responses, correct_answers)\n",
    "print(binary_responses)\n",
    "print(correct_answers)"
   ]
  },
  {
   "cell_type": "code",
   "execution_count": 14,
   "id": "5974ce2f-0b1b-472f-85e8-c5f3bd8b4c7c",
   "metadata": {},
   "outputs": [
    {
     "name": "stdout",
     "output_type": "stream",
     "text": [
      "Original participant responses:\n",
      "  Q1 Q2 Q3 Q4 Q5 Q6\n",
      "0  B  C  D  F  A  B\n",
      "1  A  C  D  F  C  B\n",
      "2  C  B  D  F  D  C\n",
      "3  F  A  C  D  A  B\n",
      "4  D  F  A  B  E  D\n",
      "\n",
      "Binary format (1 = correct, 0 = incorrect):\n",
      "   Q1  Q2  Q3  Q4  Q5  Q6\n",
      "0   0   1   1   1   1   1\n",
      "1   1   1   1   1   0   1\n",
      "2   0   0   1   1   0   0\n",
      "3   0   0   0   0   1   1\n",
      "4   0   0   0   0   0   0\n",
      "\n",
      "Total correct answers per participant:\n",
      "0    5\n",
      "1    5\n",
      "2    2\n",
      "3    2\n",
      "4    0\n",
      "dtype: int64\n",
      "\n",
      "Number of correct answers per question:\n",
      "Q1    1\n",
      "Q2    2\n",
      "Q3    3\n",
      "Q4    3\n",
      "Q5    2\n",
      "Q6    3\n",
      "dtype: int64\n",
      "\n",
      "Success rate for each question:\n",
      "Q1    20.0\n",
      "Q2    40.0\n",
      "Q3    60.0\n",
      "Q4    60.0\n",
      "Q5    40.0\n",
      "Q6    60.0\n",
      "dtype: float64\n"
     ]
    }
   ],
   "source": [
    "# Print original responses and binary format\n",
    "print(\"Original participant responses:\")\n",
    "print(participant_responses)\n",
    "print(\"\\nBinary format (1 = correct, 0 = incorrect):\")\n",
    "print(binary_responses)\n",
    "\n",
    "# Let's also see how each participant did overall\n",
    "print(\"\\nTotal correct answers per participant:\")\n",
    "print(binary_responses.sum(axis=1))\n",
    "\n",
    "# And how many got each question right\n",
    "print(\"\\nNumber of correct answers per question:\")\n",
    "print(binary_responses.sum(axis=0))\n",
    "\n",
    "print(\"\\nSuccess rate for each question:\")\n",
    "print(binary_responses.mean() * 100)  # Percentage correct for each question"
   ]
  },
  {
   "cell_type": "code",
   "execution_count": 15,
   "id": "1e9b0214-87a4-4dab-9a10-22633ce0dae7",
   "metadata": {},
   "outputs": [],
   "source": [
    "# Test whether the questions have significantly different levels of difficulty.  \n",
    "# Compare how the same participants performed across all questions."
   ]
  },
  {
   "cell_type": "code",
   "execution_count": 51,
   "id": "bf624989-fb9a-4624-b31a-86e855c10a36",
   "metadata": {},
   "outputs": [
    {
     "data": {
      "text/html": [
       "<div>\n",
       "<style scoped>\n",
       "    .dataframe tbody tr th:only-of-type {\n",
       "        vertical-align: middle;\n",
       "    }\n",
       "\n",
       "    .dataframe tbody tr th {\n",
       "        vertical-align: top;\n",
       "    }\n",
       "\n",
       "    .dataframe thead th {\n",
       "        text-align: right;\n",
       "    }\n",
       "</style>\n",
       "<table border=\"1\" class=\"dataframe\">\n",
       "  <thead>\n",
       "    <tr style=\"text-align: right;\">\n",
       "      <th></th>\n",
       "      <th>Q1</th>\n",
       "      <th>Q2</th>\n",
       "      <th>Q3</th>\n",
       "      <th>Q4</th>\n",
       "      <th>Q5</th>\n",
       "      <th>Q6</th>\n",
       "    </tr>\n",
       "  </thead>\n",
       "  <tbody>\n",
       "    <tr>\n",
       "      <th>0</th>\n",
       "      <td>0</td>\n",
       "      <td>1</td>\n",
       "      <td>1</td>\n",
       "      <td>1</td>\n",
       "      <td>1</td>\n",
       "      <td>1</td>\n",
       "    </tr>\n",
       "    <tr>\n",
       "      <th>1</th>\n",
       "      <td>1</td>\n",
       "      <td>1</td>\n",
       "      <td>1</td>\n",
       "      <td>1</td>\n",
       "      <td>0</td>\n",
       "      <td>1</td>\n",
       "    </tr>\n",
       "    <tr>\n",
       "      <th>2</th>\n",
       "      <td>0</td>\n",
       "      <td>0</td>\n",
       "      <td>1</td>\n",
       "      <td>1</td>\n",
       "      <td>0</td>\n",
       "      <td>0</td>\n",
       "    </tr>\n",
       "    <tr>\n",
       "      <th>3</th>\n",
       "      <td>0</td>\n",
       "      <td>0</td>\n",
       "      <td>0</td>\n",
       "      <td>0</td>\n",
       "      <td>1</td>\n",
       "      <td>1</td>\n",
       "    </tr>\n",
       "    <tr>\n",
       "      <th>4</th>\n",
       "      <td>0</td>\n",
       "      <td>0</td>\n",
       "      <td>0</td>\n",
       "      <td>0</td>\n",
       "      <td>0</td>\n",
       "      <td>0</td>\n",
       "    </tr>\n",
       "  </tbody>\n",
       "</table>\n",
       "</div>"
      ],
      "text/plain": [
       "   Q1  Q2  Q3  Q4  Q5  Q6\n",
       "0   0   1   1   1   1   1\n",
       "1   1   1   1   1   0   1\n",
       "2   0   0   1   1   0   0\n",
       "3   0   0   0   0   1   1\n",
       "4   0   0   0   0   0   0"
      ]
     },
     "execution_count": 51,
     "metadata": {},
     "output_type": "execute_result"
    }
   ],
   "source": [
    "binary_responses"
   ]
  },
  {
   "cell_type": "code",
   "execution_count": 52,
   "id": "5410d485-b6c0-43d0-b95c-fc00b78d1775",
   "metadata": {},
   "outputs": [
    {
     "name": "stdout",
     "output_type": "stream",
     "text": [
      "[[0 1 0 0 0]\n",
      " [1 1 0 0 0]\n",
      " [1 1 1 0 0]\n",
      " [1 1 1 0 0]\n",
      " [1 0 0 1 0]\n",
      " [1 1 0 1 0]]\n",
      "Cochran's Q Statistic: 11.058823529411764\n",
      "P-value: 0.025910812989745468\n"
     ]
    }
   ],
   "source": [
    "# Transpose the DataFrame to get the required input format\n",
    "data_for_cochrans_q = binary_responses.T.values  # Transpose to get questions as rows\n",
    "print(data_for_cochrans_q)\n",
    "\n",
    "# Calculate Crochan's Q\n",
    "results = cochrans_q(data_for_cochrans_q)\n",
    "\n",
    "# Access the Q statistic and p-value\n",
    "q_statistic = results.statistic\n",
    "p_value = results.pvalue\n",
    "\n",
    "print(f\"Cochran's Q Statistic: {q_statistic}\")\n",
    "print(f\"P-value: {p_value}\")"
   ]
  },
  {
   "cell_type": "code",
   "execution_count": 54,
   "id": "1cc3f2aa-6f10-4593-addf-ce16b1c8ee8b",
   "metadata": {},
   "outputs": [
    {
     "name": "stdout",
     "output_type": "stream",
     "text": [
      "The p-value is less than 0.05, indicating significant differences among the questions.\n",
      "Cochran's Q Statistic: 11.058823529411764 suggests that there is variability in responses.\n",
      "At least one question differs significantly from the others in the proportion of correct answers.\n"
     ]
    }
   ],
   "source": [
    "# Interpretation \n",
    "\n",
    "# Interpretation based on Cochran's Q and p-value\n",
    "if p_value < 0.05:\n",
    "    print(\"The p-value is less than 0.05, indicating significant differences among the questions.\")\n",
    "    if q_statistic > 0:\n",
    "        print(f\"Cochran's Q Statistic: {q_statistic} suggests that there is variability in responses.\")\n",
    "        print(\"At least one question differs significantly from the others in the proportion of correct answers.\")\n",
    "else:\n",
    "    print(\"The p-value is greater than or equal to 0.05, indicating no significant differences among the questions.\")\n",
    "    print(f\"Cochran's Q Statistic: {q_statistic} indicates that the responses are relatively uniform across questions.\")"
   ]
  },
  {
   "cell_type": "markdown",
   "id": "5844e9dd-c72d-4e24-90fc-d97e6c9ea683",
   "metadata": {},
   "source": [
    "## Continue with McNemar pairwise tests\n",
    "Makes sense if we count the total number of correct versus incorrect answers per question. Suppose it needs data on individual level though."
   ]
  },
  {
   "cell_type": "code",
   "execution_count": 55,
   "id": "04605e8a-9424-4341-83b2-2752b731ea4b",
   "metadata": {},
   "outputs": [
    {
     "data": {
      "text/plain": [
       "'\\nConclusion: \\nUse Crochan Q test. McNemar test for post hoc tests. Please note that although the data is coded as right or wrong, the ratio is not 50%. Correct option is only 1/6. \\n\\nIf you want to directly test whether the observed proportion of correct answers differs from random guessing across all questions, you might also consider a binomial test or chi-square goodness-of-fit test for each question individually. This would check whether the proportion of correct answers per question differs significantly from 16.67%, which represents random guessing. \\n\\nIn short, the 1:5 ratio of correct to incorrect options doesn’t impact the binary setup of Cochran’s Q test but does affect the baseline expectation for correct answers if guessing is assumed. You can use Cochran’s Q to explore consistency across questions, and if needed, conduct additional analyses to examine how actual correctness rates align with guessing probability.\\n'"
      ]
     },
     "execution_count": 55,
     "metadata": {},
     "output_type": "execute_result"
    }
   ],
   "source": [
    "\"\"\"\n",
    "Conclusion: \n",
    "Use Crochan Q test. McNemar test for post hoc tests. Please note that although the data is coded as right or wrong, the ratio is not 50%. Correct option is only 1/6. \n",
    "\n",
    "If you want to directly test whether the observed proportion of correct answers differs from random guessing across all questions, you might also consider a binomial test or chi-square goodness-of-fit test for each question individually. This would check whether the proportion of correct answers per question differs significantly from 16.67%, which represents random guessing. \n",
    "\n",
    "In short, the 1:5 ratio of correct to incorrect options doesn’t impact the binary setup of Cochran’s Q test but does affect the baseline expectation for correct answers if guessing is assumed. You can use Cochran’s Q to explore consistency across questions, and if needed, conduct additional analyses to examine how actual correctness rates align with guessing probability.\n",
    "\"\"\""
   ]
  },
  {
   "cell_type": "markdown",
   "id": "4c3e8307-6e2c-4fef-84cf-90a99e004a17",
   "metadata": {},
   "source": []
  },
  {
   "cell_type": "markdown",
   "id": "468acdb0-00ed-4da1-a314-25e64c5b92ff",
   "metadata": {},
   "source": [
    "Antalet rätt \n",
    "Presentation \n"
   ]
  }
 ],
 "metadata": {
  "kernelspec": {
   "display_name": "Python 3 (ipykernel)",
   "language": "python",
   "name": "python3"
  },
  "language_info": {
   "codemirror_mode": {
    "name": "ipython",
    "version": 3
   },
   "file_extension": ".py",
   "mimetype": "text/x-python",
   "name": "python",
   "nbconvert_exporter": "python",
   "pygments_lexer": "ipython3",
   "version": "3.12.4"
  }
 },
 "nbformat": 4,
 "nbformat_minor": 5
}
