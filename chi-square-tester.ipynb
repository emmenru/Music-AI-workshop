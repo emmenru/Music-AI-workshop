{
 "cells": [
  {
   "cell_type": "markdown",
   "id": "c7c1a8cb-9597-4ed5-aa63-afcc44be7565",
   "metadata": {},
   "source": [
    "# Chi Square Tester for NRWC Workshop"
   ]
  },
  {
   "cell_type": "code",
   "execution_count": 1,
   "id": "dc917d49-dac2-4c84-9b23-59f891f11356",
   "metadata": {},
   "outputs": [],
   "source": [
    "# Import necessary functions\n",
    "import pandas as pd \n",
    "import numpy as np \n",
    "import math\n",
    "import helper_functions as hf\n",
    "from scipy import stats\n",
    "from scipy.special import gammaincc  # for calculating p-value from chi-square statistic\n",
    "\n",
    "# Use autoreload to automatically reload changes from the Python file\n",
    "%load_ext autoreload\n",
    "%autoreload 2"
   ]
  },
  {
   "cell_type": "markdown",
   "id": "8eca69cd-5fa8-4c96-a1d6-ace7519354c7",
   "metadata": {},
   "source": [
    "## Input number of participants here "
   ]
  },
  {
   "cell_type": "code",
   "execution_count": 2,
   "id": "e2a74cf5-fdc3-4c35-b76b-292c91ff1859",
   "metadata": {},
   "outputs": [
    {
     "name": "stdin",
     "output_type": "stream",
     "text": [
      "Please enter a number:  5\n"
     ]
    },
    {
     "name": "stdout",
     "output_type": "stream",
     "text": [
      "The number of participants is: 5\n"
     ]
    }
   ],
   "source": [
    "# Define number of participants \n",
    "# This can also be used later for power calculations \n",
    "participants = hf.get_user_input()\n",
    "print(f\"The number of participants is: {participants}\")"
   ]
  },
  {
   "cell_type": "markdown",
   "id": "3aadcb51-ab71-4cea-b84f-8367243d44c5",
   "metadata": {},
   "source": [
    "## Input results from quiz here"
   ]
  },
  {
   "cell_type": "code",
   "execution_count": 3,
   "id": "d3277526-7ca3-4def-9b60-def88ad29583",
   "metadata": {},
   "outputs": [
    {
     "data": {
      "text/html": [
       "<div>\n",
       "<style scoped>\n",
       "    .dataframe tbody tr th:only-of-type {\n",
       "        vertical-align: middle;\n",
       "    }\n",
       "\n",
       "    .dataframe tbody tr th {\n",
       "        vertical-align: top;\n",
       "    }\n",
       "\n",
       "    .dataframe thead th {\n",
       "        text-align: right;\n",
       "    }\n",
       "</style>\n",
       "<table border=\"1\" class=\"dataframe\">\n",
       "  <thead>\n",
       "    <tr style=\"text-align: right;\">\n",
       "      <th></th>\n",
       "      <th>A</th>\n",
       "      <th>B</th>\n",
       "      <th>C</th>\n",
       "      <th>D</th>\n",
       "      <th>E</th>\n",
       "      <th>F</th>\n",
       "    </tr>\n",
       "  </thead>\n",
       "  <tbody>\n",
       "    <tr>\n",
       "      <th>Q1</th>\n",
       "      <td>0</td>\n",
       "      <td>0</td>\n",
       "      <td>1</td>\n",
       "      <td>1</td>\n",
       "      <td>0</td>\n",
       "      <td>2</td>\n",
       "    </tr>\n",
       "    <tr>\n",
       "      <th>Q2</th>\n",
       "      <td>0</td>\n",
       "      <td>0</td>\n",
       "      <td>1</td>\n",
       "      <td>1</td>\n",
       "      <td>0</td>\n",
       "      <td>2</td>\n",
       "    </tr>\n",
       "    <tr>\n",
       "      <th>Q3</th>\n",
       "      <td>0</td>\n",
       "      <td>0</td>\n",
       "      <td>1</td>\n",
       "      <td>1</td>\n",
       "      <td>0</td>\n",
       "      <td>2</td>\n",
       "    </tr>\n",
       "    <tr>\n",
       "      <th>Q4</th>\n",
       "      <td>0</td>\n",
       "      <td>0</td>\n",
       "      <td>1</td>\n",
       "      <td>1</td>\n",
       "      <td>0</td>\n",
       "      <td>2</td>\n",
       "    </tr>\n",
       "    <tr>\n",
       "      <th>Q5</th>\n",
       "      <td>0</td>\n",
       "      <td>0</td>\n",
       "      <td>1</td>\n",
       "      <td>1</td>\n",
       "      <td>0</td>\n",
       "      <td>2</td>\n",
       "    </tr>\n",
       "    <tr>\n",
       "      <th>Q6</th>\n",
       "      <td>0</td>\n",
       "      <td>0</td>\n",
       "      <td>1</td>\n",
       "      <td>1</td>\n",
       "      <td>0</td>\n",
       "      <td>2</td>\n",
       "    </tr>\n",
       "  </tbody>\n",
       "</table>\n",
       "</div>"
      ],
      "text/plain": [
       "    A  B  C  D  E  F\n",
       "Q1  0  0  1  1  0  2\n",
       "Q2  0  0  1  1  0  2\n",
       "Q3  0  0  1  1  0  2\n",
       "Q4  0  0  1  1  0  2\n",
       "Q5  0  0  1  1  0  2\n",
       "Q6  0  0  1  1  0  2"
      ]
     },
     "execution_count": 3,
     "metadata": {},
     "output_type": "execute_result"
    }
   ],
   "source": [
    "# Define columns and create an empty DataFrame\n",
    "columns = ['A', 'B', 'C', 'D', 'E', 'F']  # Answers for each question\n",
    "index = [f'Q{i+1}' for i in range(6)]  # Questions Q1 to Q6\n",
    "df = pd.DataFrame(columns=columns, index=index)\n",
    "#hf.input_data(index, columns)\n",
    "df.loc['Q1'] = [0, 0, 1, 1, 0, 2]  # Replace with actual values for Q1 etc\n",
    "df.loc['Q2'] = [0, 0, 1, 1, 0, 2]  \n",
    "df.loc['Q3'] = [0, 0, 1, 1, 0, 2]  \n",
    "df.loc['Q4'] = [0, 0, 1, 1, 0, 2]  \n",
    "df.loc['Q5'] = [0, 0, 1, 1, 0, 2]  \n",
    "df.loc['Q6'] = [0, 0, 1, 1, 0, 2]  \n",
    "\n",
    "df"
   ]
  },
  {
   "cell_type": "code",
   "execution_count": 4,
   "id": "2a5a515a-c1cc-412e-9560-12aee0cd3e72",
   "metadata": {},
   "outputs": [
    {
     "data": {
      "text/plain": [
       "A    0\n",
       "B    0\n",
       "C    1\n",
       "D    1\n",
       "E    0\n",
       "F    2\n",
       "Name: Q1, dtype: object"
      ]
     },
     "execution_count": 4,
     "metadata": {},
     "output_type": "execute_result"
    }
   ],
   "source": [
    "# Print row 1 \n",
    "df.loc['Q1'] "
   ]
  },
  {
   "cell_type": "code",
   "execution_count": 5,
   "id": "a99dd93a-3ab7-4296-86d1-ae718741e223",
   "metadata": {},
   "outputs": [
    {
     "name": "stdout",
     "output_type": "stream",
     "text": [
      "    A  B  C  D  E  F\n",
      "Q1  1  1  1  1  0  1\n",
      "Q2  1  1  2  1  0  0\n",
      "Q3  0  2  1  1  1  0\n",
      "Q4  0  0  0  3  2  0\n",
      "Q5  2  2  1  0  0  0\n",
      "Q6  1  1  0  1  0  2\n"
     ]
    }
   ],
   "source": [
    "# For testing, generate random numbers if there are n participants \n",
    "\n",
    "# Set random seed for reproducibility\n",
    "np.random.seed(0)\n",
    "\n",
    "# Define the indices and columns\n",
    "row_indices = [f'Q{i}' for i in range(1, 7)]\n",
    "columns = ['A', 'B', 'C', 'D', 'E', 'F']\n",
    "\n",
    "# Initialize an empty DataFrame\n",
    "df = pd.DataFrame(index=row_indices, columns=columns)\n",
    "\n",
    "# Fill the DataFrame with random integers such that the sum of each row equals 5\n",
    "for row in row_indices:\n",
    "    # Generate random integers that sum to n participants\n",
    "    values = np.random.multinomial(participants, [1/6]*6)\n",
    "    # Assign to the DataFrame\n",
    "    df.loc[row] = values\n",
    "\n",
    "# Display the DataFrame\n",
    "print(df)\n",
    "\n",
    "# Do we need to divide by 10 get percentages? "
   ]
  },
  {
   "cell_type": "markdown",
   "id": "0f1d5c91-5f7e-484e-a2b7-8036573cd732",
   "metadata": {},
   "source": [
    "## Chi-Square Goodness of Fit Test \n",
    "Tests whether the observed frequencies of a single categorical variable match expected frequencies under a specific hypothesis.\n",
    "\n",
    "Hypothesis:\n",
    "- Null Hypothesis (H₀): The observed distribution matches the expected distribution.\n",
    "- Alternative Hypothesis (H₁): The observed distribution does not match the expected distribution.\n",
    "\n",
    "The Chi-Square Goodness of Fit Test compares the observed distribution of responses to a uniform distribution, assuming that each answer choice (A-F) has an equal probability of being selected if participants are choosing randomly."
   ]
  },
  {
   "cell_type": "markdown",
   "id": "893f70a5-7f43-4482-bca5-26a30ff8402c",
   "metadata": {},
   "source": [
    "### Input question data here"
   ]
  },
  {
   "cell_type": "code",
   "execution_count": 12,
   "id": "e38fa73d-72fa-4113-a0be-254dbc1de5cf",
   "metadata": {},
   "outputs": [],
   "source": [
    "#Observed counts for each option A-F in question Q1\n",
    "observed_counts = df.loc['Q1']"
   ]
  },
  {
   "cell_type": "markdown",
   "id": "6927986c-2e04-4452-8a8a-4cd7fe23a63e",
   "metadata": {},
   "source": [
    "### Manual calculation"
   ]
  },
  {
   "cell_type": "code",
   "execution_count": 13,
   "id": "c6dd07ff-e89d-438f-9aab-c58d9d38d756",
   "metadata": {},
   "outputs": [
    {
     "name": "stdout",
     "output_type": "stream",
     "text": [
      "Chi-Square Statistic (calculated manually): 1.0\n",
      "The result is not statistically significant at the 0.05 level.\n",
      "The observed distribution of responses is consistent with random guessing.\n"
     ]
    }
   ],
   "source": [
    "# Calculate the total number of responses\n",
    "total_responses = sum(observed_counts)\n",
    "\n",
    "# Calculate the expected counts assuming each option is equally likely\n",
    "expected_count = total_responses / 6\n",
    "expected_counts = [expected_count] * 6\n",
    "\n",
    "# Calculate the Chi-Square statistic by hand\n",
    "chi_square_stat = sum(\n",
    "    ((observed - expected) ** 2) / expected\n",
    "    for observed, expected in zip(observed_counts, expected_counts)\n",
    ")\n",
    "\n",
    "# Print the calculated Chi-Square statistic\n",
    "print(\"Chi-Square Statistic (calculated manually):\", chi_square_stat)\n",
    "\n",
    "# Degrees of freedom for this test\n",
    "deg_freedom = len(observed_counts) - 1  # Here, df = 6 - 1 = 5\n",
    "\n",
    "# To determine the significance level, we typically need a p-value.\n",
    "# To fully implement this, we’d need to calculate or look up the critical value in a Chi-Square table.\n",
    "# Example:\n",
    "# For df=5 and significance level 0.05, the critical value is approximately 11.07\n",
    "# So, we can interpret by comparing:\n",
    "\n",
    "critical_value_95 = 11.07\n",
    "\n",
    "# Calculate the p-value using the Chi-Square survival function\n",
    "p_value = gammaincc(deg_freedom / 2, chi_square_stat / 2)\n",
    "\n",
    "#if chi_square_stat > critical_value_95:\n",
    "if p_value < 0.05:\n",
    "    print(\"The result is statistically significant at the 0.05 level.\")\n",
    "    print(\"The observed distribution of responses is significantly different from random guessing.\")\n",
    "else:\n",
    "    print(\"The result is not statistically significant at the 0.05 level.\")\n",
    "    print(\"The observed distribution of responses is consistent with random guessing.\")\n"
   ]
  },
  {
   "cell_type": "markdown",
   "id": "2463a86e-9ad9-4343-b26a-b0736f8eb8fa",
   "metadata": {},
   "source": [
    "### Using scipy.stats package"
   ]
  },
  {
   "cell_type": "code",
   "execution_count": 14,
   "id": "0953be44-1268-4425-a0ad-141267661f8e",
   "metadata": {},
   "outputs": [
    {
     "name": "stdout",
     "output_type": "stream",
     "text": [
      "Total number of responses: 5\n",
      "Chi-Square Statistic: 1.0\n",
      "p-value: 0.9625657732472964\n",
      "The p-value is 0.9626. This is greater than the significance level of 0.05.\n",
      "We do not reject the null hypothesis, indicating that the observed distribution of responses for question Q1\n",
      "is not significantly different from random guessing. The responses appear consistent with chance.\n"
     ]
    }
   ],
   "source": [
    "# Calculate the total number of responses for Q1\n",
    "total_responses = sum(observed_counts)\n",
    "\n",
    "# Expected counts assuming equal probability for each option (random guessing)\n",
    "expected_count = total_responses / 6\n",
    "expected_counts = [expected_count] * 6\n",
    "\n",
    "# Perform the Chi-Square Goodness of Fit test\n",
    "chi2_stat, p_value = stats.chisquare(f_obs=observed_counts, f_exp=expected_counts)\n",
    "\n",
    "# Output the results\n",
    "print(\"Total number of responses:\", total_responses)\n",
    "print(\"Chi-Square Statistic:\", chi2_stat) # How much the observed counts differ from the expected counts. Higher values indicate larger deviations.\n",
    "print(\"p-value:\", p_value) # A low p-valu, it suggests that the distribution of responses in Q1 is not likely to be due to random guessing, and some options may be selected more often than expected by chance.\n",
    "\n",
    "# Interpretation of results\n",
    "if p_value < 0.05:\n",
    "    print(f\"The p-value is {p_value:.4f}. This is less than the significance level of 0.05.\")\n",
    "    print(\"We reject the null hypothesis, suggesting that the observed distribution of responses for question Q1\")\n",
    "    print(\"is significantly different from what would be expected by random guessing. Some answer options may be chosen more often.\")\n",
    "else:\n",
    "    print(f\"The p-value is {p_value:.4f}. This is greater than the significance level of 0.05.\")\n",
    "    print(\"We do not reject the null hypothesis, indicating that the observed distribution of responses for question Q1\")\n",
    "    print(\"is not significantly different from random guessing. The responses appear consistent with chance.\")"
   ]
  },
  {
   "cell_type": "markdown",
   "id": "f578bc4c-27d8-461a-9d16-08eeb8097262",
   "metadata": {},
   "source": [
    "## Crochan Q test "
   ]
  },
  {
   "cell_type": "markdown",
   "id": "e2efef97-7d18-4d20-97c7-36ab1ee4d010",
   "metadata": {},
   "source": [
    "Conclusion: \n",
    "Use Crochan Q test. McNemar test for post hoc tests. Please note that although the data is coded as right or wrong, the ratio is not 50%. Correct option is only 1/6. \n",
    "\n",
    "If you want to directly test whether the observed proportion of correct answers differs from random guessing across all questions, you might also consider a binomial test or chi-square goodness-of-fit test for each question individually. This would check whether the proportion of correct answers per question differs significantly from 16.67%, which represents random guessing. \n",
    "\n",
    "In short, the 1:5 ratio of correct to incorrect options doesn’t impact the binary setup of Cochran’s Q test but does affect the baseline expectation for correct answers if guessing is assumed. You can use Cochran’s Q to explore consistency across questions, and if needed, conduct additional analyses to examine how actual correctness rates align with guessing probability.\n"
   ]
  },
  {
   "cell_type": "code",
   "execution_count": null,
   "id": "2776446e-6953-422e-b6e9-72db23c67f0b",
   "metadata": {},
   "outputs": [],
   "source": []
  }
 ],
 "metadata": {
  "kernelspec": {
   "display_name": "Python 3 (ipykernel)",
   "language": "python",
   "name": "python3"
  },
  "language_info": {
   "codemirror_mode": {
    "name": "ipython",
    "version": 3
   },
   "file_extension": ".py",
   "mimetype": "text/x-python",
   "name": "python",
   "nbconvert_exporter": "python",
   "pygments_lexer": "ipython3",
   "version": "3.12.4"
  }
 },
 "nbformat": 4,
 "nbformat_minor": 5
}
